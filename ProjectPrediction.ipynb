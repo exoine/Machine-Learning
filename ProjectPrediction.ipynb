{
 "cells": [
  {
   "cell_type": "code",
   "execution_count": 1,
   "id": "3d571eaf",
   "metadata": {},
   "outputs": [],
   "source": [
    "import pandas as pd\n",
    "from sklearn.preprocessing import StandardScaler"
   ]
  },
  {
   "cell_type": "code",
   "execution_count": 2,
   "id": "3786b051",
   "metadata": {},
   "outputs": [
    {
     "data": {
      "text/html": [
       "<div>\n",
       "<style scoped>\n",
       "    .dataframe tbody tr th:only-of-type {\n",
       "        vertical-align: middle;\n",
       "    }\n",
       "\n",
       "    .dataframe tbody tr th {\n",
       "        vertical-align: top;\n",
       "    }\n",
       "\n",
       "    .dataframe thead th {\n",
       "        text-align: right;\n",
       "    }\n",
       "</style>\n",
       "<table border=\"1\" class=\"dataframe\">\n",
       "  <thead>\n",
       "    <tr style=\"text-align: right;\">\n",
       "      <th></th>\n",
       "      <th>Unnamed: 0</th>\n",
       "      <th>libelle</th>\n",
       "      <th>prix</th>\n",
       "      <th>quartier</th>\n",
       "      <th>details</th>\n",
       "      <th>imgUrl</th>\n",
       "      <th>description</th>\n",
       "      <th>avantages</th>\n",
       "      <th>lon</th>\n",
       "      <th>lat</th>\n",
       "    </tr>\n",
       "  </thead>\n",
       "  <tbody>\n",
       "    <tr>\n",
       "      <th>0</th>\n",
       "      <td>0</td>\n",
       "      <td>Duplex moderne avec terrasse au triangle d'or</td>\n",
       "      <td>4 200 000 DH</td>\n",
       "      <td>Maârif à Casablanca</td>\n",
       "      <td>213 m² - 9 Pièces - 3 Chambres - 4 Salles de b...</td>\n",
       "      <td>paxaenzoui.png</td>\n",
       "      <td>Alter Foncier vous propose à la vente ce magni...</td>\n",
       "      <td>Orientation: Sud - Terrasse - Garage - Ascense...</td>\n",
       "      <td>-7.636185</td>\n",
       "      <td>33.588910</td>\n",
       "    </tr>\n",
       "    <tr>\n",
       "      <th>1</th>\n",
       "      <td>1</td>\n",
       "      <td>Splendide villa à vendre à Anfa. Piscine et do...</td>\n",
       "      <td>46 000 000 DH</td>\n",
       "      <td>Ain Diab à Casablanca</td>\n",
       "      <td>3500 m² - 5 Pièces - 6 Chambres - 2 Salles de ...</td>\n",
       "      <td>siwmbyihrw.png</td>\n",
       "      <td>A VENDRE UNE VILLA A ANFA A RETAPER. VUE MER D...</td>\n",
       "      <td>Jardin - Terrasse - Garage - Vue sur mer - Pis...</td>\n",
       "      <td>-7.612707</td>\n",
       "      <td>33.583335</td>\n",
       "    </tr>\n",
       "    <tr>\n",
       "      <th>2</th>\n",
       "      <td>2</td>\n",
       "      <td>Appartement de 67m² en vente, Ahl Loghlam Soci...</td>\n",
       "      <td>250 000 DH</td>\n",
       "      <td>Ahl Loghlam (Hay Assalam) à Casablanca</td>\n",
       "      <td>67 m² - 4 Pièces - 3 Chambres - 2 Salles de ba...</td>\n",
       "      <td>xfkdzbtnmi.png</td>\n",
       "      <td>Le projet résidentiel Shems Almadina Tit Melli...</td>\n",
       "      <td>Jardin - Terrasse - Ascenseur - Vue sur mer - ...</td>\n",
       "      <td>-7.472037</td>\n",
       "      <td>33.584161</td>\n",
       "    </tr>\n",
       "    <tr>\n",
       "      <th>3</th>\n",
       "      <td>3</td>\n",
       "      <td>Appartement à la location sur Bourgogne</td>\n",
       "      <td>1 000 000 DH</td>\n",
       "      <td>Bourgogne Ouest à Casablanca</td>\n",
       "      <td>130 m² - 3 Pièces - 2 Chambres - 2 Salles de b...</td>\n",
       "      <td>jdqjhsnxnm.png</td>\n",
       "      <td>A VENDRE UN APPARTEMENT À BOURGOGNE AVEC TERRA...</td>\n",
       "      <td>Orientation: Est - Terrasse - Garage - Ascense...</td>\n",
       "      <td>-7.675838</td>\n",
       "      <td>33.582734</td>\n",
       "    </tr>\n",
       "    <tr>\n",
       "      <th>4</th>\n",
       "      <td>4</td>\n",
       "      <td>Belle villa 700 m², Polo</td>\n",
       "      <td>8 500 000 DH</td>\n",
       "      <td>Polo à Casablanca</td>\n",
       "      <td>700 m² - 15 Pièces - 7 Chambres - 6 Salles de ...</td>\n",
       "      <td>fzwtlfnrgy.png</td>\n",
       "      <td>Alter Foncier vous propose à la vente cette ma...</td>\n",
       "      <td>Orientation: Sud - Jardin - Terrasse - Garage ...</td>\n",
       "      <td>-7.620113</td>\n",
       "      <td>33.560735</td>\n",
       "    </tr>\n",
       "  </tbody>\n",
       "</table>\n",
       "</div>"
      ],
      "text/plain": [
       "   Unnamed: 0                                            libelle  \\\n",
       "0           0      Duplex moderne avec terrasse au triangle d'or   \n",
       "1           1  Splendide villa à vendre à Anfa. Piscine et do...   \n",
       "2           2  Appartement de 67m² en vente, Ahl Loghlam Soci...   \n",
       "3           3            Appartement à la location sur Bourgogne   \n",
       "4           4                           Belle villa 700 m², Polo   \n",
       "\n",
       "            prix                                quartier  \\\n",
       "0   4 200 000 DH                     Maârif à Casablanca   \n",
       "1  46 000 000 DH                   Ain Diab à Casablanca   \n",
       "2     250 000 DH  Ahl Loghlam (Hay Assalam) à Casablanca   \n",
       "3   1 000 000 DH            Bourgogne Ouest à Casablanca   \n",
       "4   8 500 000 DH                       Polo à Casablanca   \n",
       "\n",
       "                                             details          imgUrl  \\\n",
       "0  213 m² - 9 Pièces - 3 Chambres - 4 Salles de b...  paxaenzoui.png   \n",
       "1  3500 m² - 5 Pièces - 6 Chambres - 2 Salles de ...  siwmbyihrw.png   \n",
       "2  67 m² - 4 Pièces - 3 Chambres - 2 Salles de ba...  xfkdzbtnmi.png   \n",
       "3  130 m² - 3 Pièces - 2 Chambres - 2 Salles de b...  jdqjhsnxnm.png   \n",
       "4  700 m² - 15 Pièces - 7 Chambres - 6 Salles de ...  fzwtlfnrgy.png   \n",
       "\n",
       "                                         description  \\\n",
       "0  Alter Foncier vous propose à la vente ce magni...   \n",
       "1  A VENDRE UNE VILLA A ANFA A RETAPER. VUE MER D...   \n",
       "2  Le projet résidentiel Shems Almadina Tit Melli...   \n",
       "3  A VENDRE UN APPARTEMENT À BOURGOGNE AVEC TERRA...   \n",
       "4  Alter Foncier vous propose à la vente cette ma...   \n",
       "\n",
       "                                           avantages       lon        lat  \n",
       "0  Orientation: Sud - Terrasse - Garage - Ascense... -7.636185  33.588910  \n",
       "1  Jardin - Terrasse - Garage - Vue sur mer - Pis... -7.612707  33.583335  \n",
       "2  Jardin - Terrasse - Ascenseur - Vue sur mer - ... -7.472037  33.584161  \n",
       "3  Orientation: Est - Terrasse - Garage - Ascense... -7.675838  33.582734  \n",
       "4  Orientation: Sud - Jardin - Terrasse - Garage ... -7.620113  33.560735  "
      ]
     },
     "execution_count": 2,
     "metadata": {},
     "output_type": "execute_result"
    }
   ],
   "source": [
    "df = pd.read_excel(\"D:\\\\Universities Lectures\\\\NED Lectures\\\\Machine Learning Classes\\\\RAW.xlsx\")\n",
    "df.head()"
   ]
  },
  {
   "cell_type": "code",
   "execution_count": 3,
   "id": "15304d90",
   "metadata": {},
   "outputs": [
    {
     "name": "stdout",
     "output_type": "stream",
     "text": [
      "<class 'pandas.core.frame.DataFrame'>\n",
      "RangeIndex: 7495 entries, 0 to 7494\n",
      "Data columns (total 10 columns):\n",
      " #   Column       Non-Null Count  Dtype  \n",
      "---  ------       --------------  -----  \n",
      " 0   Unnamed: 0   7495 non-null   int64  \n",
      " 1   libelle      7495 non-null   object \n",
      " 2   prix         7495 non-null   object \n",
      " 3   quartier     7495 non-null   object \n",
      " 4   details      7493 non-null   object \n",
      " 5   imgUrl       7495 non-null   object \n",
      " 6   description  7495 non-null   object \n",
      " 7   avantages    6867 non-null   object \n",
      " 8   lon          6949 non-null   float64\n",
      " 9   lat          6949 non-null   float64\n",
      "dtypes: float64(2), int64(1), object(7)\n",
      "memory usage: 585.7+ KB\n"
     ]
    }
   ],
   "source": [
    "df.info()"
   ]
  },
  {
   "cell_type": "code",
   "execution_count": 4,
   "id": "a756dffc",
   "metadata": {},
   "outputs": [],
   "source": [
    "# Drop the 'Unnamed: 0' column\n",
    "df = df.drop('Unnamed: 0', axis=1)\n",
    "df = df.drop('imgUrl', axis=1)"
   ]
  },
  {
   "cell_type": "code",
   "execution_count": 5,
   "id": "f0cc72b3",
   "metadata": {},
   "outputs": [],
   "source": [
    "# Convert 'prix' column to float\n",
    "df['prix'] = df['prix'].str.extract('(\\d+\\.?\\d*)').astype(float)"
   ]
  },
  {
   "cell_type": "code",
   "execution_count": 6,
   "id": "e83ea89b",
   "metadata": {},
   "outputs": [],
   "source": [
    "# Convert 'lon' and 'lat' columns to float\n",
    "df['lon'] = df['lon'].astype(float)\n",
    "df['lat'] = df['lat'].astype(float)"
   ]
  },
  {
   "cell_type": "code",
   "execution_count": 7,
   "id": "6608ba91",
   "metadata": {},
   "outputs": [],
   "source": [
    "# # Convert 'quartier' column to lowercase and drop any leading/trailing whitespaces\n",
    "df['quartier'] = df['quartier'].str.lower().str.strip()\n"
   ]
  },
  {
   "cell_type": "code",
   "execution_count": 8,
   "id": "d67bbf80",
   "metadata": {},
   "outputs": [
    {
     "name": "stdout",
     "output_type": "stream",
     "text": [
      "libelle         object\n",
      "prix           float64\n",
      "quartier        object\n",
      "details         object\n",
      "description     object\n",
      "avantages       object\n",
      "lon            float64\n",
      "lat            float64\n",
      "dtype: object\n",
      "Index(['libelle', 'quartier', 'details', 'description', 'avantages'], dtype='object')\n"
     ]
    }
   ],
   "source": [
    "# Check the data types of the columns\n",
    "print(df.dtypes)\n",
    "\n",
    "# Filter for string columns\n",
    "string_columns = df.select_dtypes(include='object').columns\n",
    "print(string_columns)"
   ]
  },
  {
   "cell_type": "code",
   "execution_count": 9,
   "id": "23237f3f",
   "metadata": {},
   "outputs": [],
   "source": [
    "from sklearn.preprocessing import LabelEncoder\n",
    "\n",
    "le = LabelEncoder()\n",
    "for col in ['libelle', 'description','details','avantages','quartier']:\n",
    "    df[col] = le.fit_transform(df[col])"
   ]
  },
  {
   "cell_type": "code",
   "execution_count": 10,
   "id": "4ec40fec",
   "metadata": {},
   "outputs": [
    {
     "data": {
      "text/plain": [
       "libelle          0\n",
       "prix             0\n",
       "quartier         0\n",
       "details          0\n",
       "description      0\n",
       "avantages        0\n",
       "lon            546\n",
       "lat            546\n",
       "dtype: int64"
      ]
     },
     "execution_count": 10,
     "metadata": {},
     "output_type": "execute_result"
    }
   ],
   "source": [
    "df.isna().sum(axis = 0)"
   ]
  },
  {
   "cell_type": "code",
   "execution_count": 11,
   "id": "ec2cb198",
   "metadata": {},
   "outputs": [],
   "source": [
    "from sklearn.impute import KNNImputer"
   ]
  },
  {
   "cell_type": "code",
   "execution_count": 12,
   "id": "f3b3bc29",
   "metadata": {},
   "outputs": [],
   "source": [
    "# Impute missing values in lon and lat columns\n",
    "df['lon'] = df['lon'].fillna(df['lon'].mean())\n",
    "df['lat'] = df['lat'].fillna(df['lat'].mean())\n",
    "\n",
    "# Replace original dataframe with imputed values\n",
    "df = df.fillna(df.mean())\n"
   ]
  },
  {
   "cell_type": "code",
   "execution_count": 13,
   "id": "2ff8d2b2",
   "metadata": {},
   "outputs": [
    {
     "data": {
      "text/plain": [
       "libelle        0\n",
       "prix           0\n",
       "quartier       0\n",
       "details        0\n",
       "description    0\n",
       "avantages      0\n",
       "lon            0\n",
       "lat            0\n",
       "dtype: int64"
      ]
     },
     "execution_count": 13,
     "metadata": {},
     "output_type": "execute_result"
    }
   ],
   "source": [
    "import numpy as np\n",
    "\n",
    "df['details'].fillna(value='unknown', inplace=True)\n",
    "\n",
    "df.isna().sum(axis = 0)"
   ]
  },
  {
   "cell_type": "code",
   "execution_count": 14,
   "id": "ce6c7736",
   "metadata": {},
   "outputs": [],
   "source": [
    "# Scale numeric variables using StandardScaler\n",
    "scaler = StandardScaler()\n",
    "df[['prix', 'lon', 'lat']] = scaler.fit_transform(df[['prix', 'lon', 'lat']])"
   ]
  },
  {
   "cell_type": "code",
   "execution_count": 15,
   "id": "a1ce212e",
   "metadata": {},
   "outputs": [
    {
     "data": {
      "text/html": [
       "<div>\n",
       "<style scoped>\n",
       "    .dataframe tbody tr th:only-of-type {\n",
       "        vertical-align: middle;\n",
       "    }\n",
       "\n",
       "    .dataframe tbody tr th {\n",
       "        vertical-align: top;\n",
       "    }\n",
       "\n",
       "    .dataframe thead th {\n",
       "        text-align: right;\n",
       "    }\n",
       "</style>\n",
       "<table border=\"1\" class=\"dataframe\">\n",
       "  <thead>\n",
       "    <tr style=\"text-align: right;\">\n",
       "      <th></th>\n",
       "      <th>libelle</th>\n",
       "      <th>prix</th>\n",
       "      <th>quartier</th>\n",
       "      <th>details</th>\n",
       "      <th>description</th>\n",
       "      <th>avantages</th>\n",
       "      <th>lon</th>\n",
       "      <th>lat</th>\n",
       "    </tr>\n",
       "  </thead>\n",
       "  <tbody>\n",
       "    <tr>\n",
       "      <th>0</th>\n",
       "      <td>3114</td>\n",
       "      <td>-0.532341</td>\n",
       "      <td>144</td>\n",
       "      <td>2713</td>\n",
       "      <td>792</td>\n",
       "      <td>2850</td>\n",
       "      <td>-0.033824</td>\n",
       "      <td>0.057280</td>\n",
       "    </tr>\n",
       "    <tr>\n",
       "      <th>1</th>\n",
       "      <td>4039</td>\n",
       "      <td>-0.391750</td>\n",
       "      <td>4</td>\n",
       "      <td>3207</td>\n",
       "      <td>109</td>\n",
       "      <td>1760</td>\n",
       "      <td>-0.002932</td>\n",
       "      <td>0.050379</td>\n",
       "    </tr>\n",
       "    <tr>\n",
       "      <th>2</th>\n",
       "      <td>1051</td>\n",
       "      <td>0.291125</td>\n",
       "      <td>0</td>\n",
       "      <td>4553</td>\n",
       "      <td>3503</td>\n",
       "      <td>1058</td>\n",
       "      <td>0.182157</td>\n",
       "      <td>0.051401</td>\n",
       "    </tr>\n",
       "    <tr>\n",
       "      <th>3</th>\n",
       "      <td>1841</td>\n",
       "      <td>-0.542384</td>\n",
       "      <td>28</td>\n",
       "      <td>1246</td>\n",
       "      <td>106</td>\n",
       "      <td>1989</td>\n",
       "      <td>-0.086000</td>\n",
       "      <td>0.049635</td>\n",
       "    </tr>\n",
       "    <tr>\n",
       "      <th>4</th>\n",
       "      <td>2895</td>\n",
       "      <td>-0.518952</td>\n",
       "      <td>156</td>\n",
       "      <td>4709</td>\n",
       "      <td>805</td>\n",
       "      <td>2703</td>\n",
       "      <td>-0.012677</td>\n",
       "      <td>0.022405</td>\n",
       "    </tr>\n",
       "  </tbody>\n",
       "</table>\n",
       "</div>"
      ],
      "text/plain": [
       "   libelle      prix  quartier  details  description  avantages       lon  \\\n",
       "0     3114 -0.532341       144     2713          792       2850 -0.033824   \n",
       "1     4039 -0.391750         4     3207          109       1760 -0.002932   \n",
       "2     1051  0.291125         0     4553         3503       1058  0.182157   \n",
       "3     1841 -0.542384        28     1246          106       1989 -0.086000   \n",
       "4     2895 -0.518952       156     4709          805       2703 -0.012677   \n",
       "\n",
       "        lat  \n",
       "0  0.057280  \n",
       "1  0.050379  \n",
       "2  0.051401  \n",
       "3  0.049635  \n",
       "4  0.022405  "
      ]
     },
     "execution_count": 15,
     "metadata": {},
     "output_type": "execute_result"
    }
   ],
   "source": [
    "df.head()"
   ]
  },
  {
   "cell_type": "code",
   "execution_count": 16,
   "id": "6d86d278",
   "metadata": {},
   "outputs": [],
   "source": [
    "import pandas as pd\n",
    "from sklearn.ensemble import GradientBoostingRegressor\n",
    "from sklearn.model_selection import train_test_split, GridSearchCV\n",
    "from sklearn.metrics import mean_squared_error"
   ]
  },
  {
   "cell_type": "code",
   "execution_count": 17,
   "id": "b9200d3d",
   "metadata": {},
   "outputs": [],
   "source": [
    "# Split the data into training and testing sets\n",
    "X_train, X_test, y_train, y_test = train_test_split(df.drop(['prix'], axis=1), df['prix'], test_size=0.2, random_state=42)"
   ]
  },
  {
   "cell_type": "code",
   "execution_count": 18,
   "id": "88f7bb71",
   "metadata": {},
   "outputs": [],
   "source": [
    "# Define the Gradient Boosting Regression model\n",
    "gbr = GradientBoostingRegressor()"
   ]
  },
  {
   "cell_type": "code",
   "execution_count": 19,
   "id": "004f2f99",
   "metadata": {},
   "outputs": [],
   "source": [
    "# Define the hyperparameter grid\n",
    "param_grid = {\n",
    "    'learning_rate': [0.01, 0.1],\n",
    "    'n_estimators': [100, 500],\n",
    "    'max_depth': [3, 5],\n",
    "    'min_samples_split': [2, 4]\n",
    "}"
   ]
  },
  {
   "cell_type": "code",
   "execution_count": 20,
   "id": "7fbe1668",
   "metadata": {},
   "outputs": [
    {
     "data": {
      "text/plain": [
       "GridSearchCV(cv=5, estimator=GradientBoostingRegressor(),\n",
       "             param_grid={'learning_rate': [0.01, 0.1], 'max_depth': [3, 5],\n",
       "                         'min_samples_split': [2, 4],\n",
       "                         'n_estimators': [100, 500]})"
      ]
     },
     "execution_count": 20,
     "metadata": {},
     "output_type": "execute_result"
    }
   ],
   "source": [
    "# Perform a grid search to find the best hyperparameters\n",
    "grid_search = GridSearchCV(gbr, param_grid=param_grid, cv=5)\n",
    "grid_search.fit(X_train, y_train)"
   ]
  },
  {
   "cell_type": "code",
   "execution_count": 21,
   "id": "6a40ed8c",
   "metadata": {},
   "outputs": [
    {
     "name": "stdout",
     "output_type": "stream",
     "text": [
      "[-0.61620232 -0.44663033  0.63823835 ... -0.54264521 -0.26256102\n",
      " -0.53715822]\n"
     ]
    }
   ],
   "source": [
    "# Use the best model to make predictions on the testing set\n",
    "y_pred = grid_search.predict(X_test)\n",
    "print(y_pred)"
   ]
  },
  {
   "cell_type": "code",
   "execution_count": 22,
   "id": "f6c184e5",
   "metadata": {},
   "outputs": [
    {
     "name": "stdout",
     "output_type": "stream",
     "text": [
      "Mean squared error: 0.39868529889412596\n",
      "Best hyperparameters: {'learning_rate': 0.1, 'max_depth': 5, 'min_samples_split': 2, 'n_estimators': 500}\n"
     ]
    }
   ],
   "source": [
    "# Calculate the mean squared error\n",
    "mse = mean_squared_error(y_test, y_pred)\n",
    "\n",
    "print(f\"Mean squared error: {mse}\")\n",
    "print(f\"Best hyperparameters: {grid_search.best_params_}\")"
   ]
  },
  {
   "cell_type": "code",
   "execution_count": 23,
   "id": "9e8f7cfc",
   "metadata": {},
   "outputs": [
    {
     "data": {
      "text/plain": [
       "GradientBoostingRegressor(max_depth=5)"
      ]
     },
     "execution_count": 23,
     "metadata": {},
     "output_type": "execute_result"
    }
   ],
   "source": [
    "# Initialize and fit the model on training data\n",
    "model = GradientBoostingRegressor(n_estimators=100, learning_rate=0.1, max_depth=5)\n",
    "model.fit(X_train, y_train)"
   ]
  },
  {
   "cell_type": "code",
   "execution_count": 24,
   "id": "30cdd482",
   "metadata": {},
   "outputs": [
    {
     "name": "stdout",
     "output_type": "stream",
     "text": [
      "Training R-squared score: 0.7458999856318675\n"
     ]
    }
   ],
   "source": [
    "# Calculate R-squared score on training data\n",
    "train_score = model.score(X_train, y_train)\n",
    "print(\"Training R-squared score:\", train_score)"
   ]
  },
  {
   "cell_type": "code",
   "execution_count": 25,
   "id": "900b2101",
   "metadata": {},
   "outputs": [
    {
     "name": "stdout",
     "output_type": "stream",
     "text": [
      "Testing R-squared score: 0.5601776437492865\n"
     ]
    }
   ],
   "source": [
    "# Calculate R-squared score on testing data\n",
    "test_score = model.score(X_test, y_test)\n",
    "print(\"Testing R-squared score:\", test_score)"
   ]
  }
 ],
 "metadata": {
  "kernelspec": {
   "display_name": "Python 3 (ipykernel)",
   "language": "python",
   "name": "python3"
  },
  "language_info": {
   "codemirror_mode": {
    "name": "ipython",
    "version": 3
   },
   "file_extension": ".py",
   "mimetype": "text/x-python",
   "name": "python",
   "nbconvert_exporter": "python",
   "pygments_lexer": "ipython3",
   "version": "3.9.13"
  }
 },
 "nbformat": 4,
 "nbformat_minor": 5
}
